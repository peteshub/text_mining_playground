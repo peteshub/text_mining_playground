{
 "cells": [
  {
   "cell_type": "code",
   "execution_count": 69,
   "metadata": {},
   "outputs": [],
   "source": [
    "%matplotlib inline\n",
    "\n",
    "import sqlite3\n",
    "import nltk\n",
    "import pandas as pd\n",
    "import matplotlib.pyplot as plt\n",
    "from nltk.corpus import stopwords\n",
    "\n",
    "from nltk.draw.dispersion import dispersion_plot"
   ]
  },
  {
   "cell_type": "code",
   "execution_count": 2,
   "metadata": {},
   "outputs": [
    {
     "data": {
      "text/html": [
       "<div>\n",
       "<style scoped>\n",
       "    .dataframe tbody tr th:only-of-type {\n",
       "        vertical-align: middle;\n",
       "    }\n",
       "\n",
       "    .dataframe tbody tr th {\n",
       "        vertical-align: top;\n",
       "    }\n",
       "\n",
       "    .dataframe thead th {\n",
       "        text-align: right;\n",
       "    }\n",
       "</style>\n",
       "<table border=\"1\" class=\"dataframe\">\n",
       "  <thead>\n",
       "    <tr style=\"text-align: right;\">\n",
       "      <th></th>\n",
       "      <th>company</th>\n",
       "      <th>year</th>\n",
       "      <th>page</th>\n",
       "      <th>paragraph_nr</th>\n",
       "      <th>paragraph</th>\n",
       "      <th>section</th>\n",
       "    </tr>\n",
       "  </thead>\n",
       "  <tbody>\n",
       "    <tr>\n",
       "      <th>0</th>\n",
       "      <td>BASF</td>\n",
       "      <td>2016</td>\n",
       "      <td>4</td>\n",
       "      <td>64</td>\n",
       "      <td>154 Consolidated Financial  Statements  BASF R...</td>\n",
       "      <td>auditors report</td>\n",
       "    </tr>\n",
       "    <tr>\n",
       "      <th>1</th>\n",
       "      <td>BASF</td>\n",
       "      <td>2016</td>\n",
       "      <td>4</td>\n",
       "      <td>65</td>\n",
       "      <td>Auditor’s report</td>\n",
       "      <td>auditors report</td>\n",
       "    </tr>\n",
       "    <tr>\n",
       "      <th>2</th>\n",
       "      <td>BASF</td>\n",
       "      <td>2016</td>\n",
       "      <td>4</td>\n",
       "      <td>66</td>\n",
       "      <td>Auditor’s report</td>\n",
       "      <td>auditors report</td>\n",
       "    </tr>\n",
       "    <tr>\n",
       "      <th>3</th>\n",
       "      <td>BASF</td>\n",
       "      <td>2016</td>\n",
       "      <td>4</td>\n",
       "      <td>67</td>\n",
       "      <td>We have audited the consolidated financial sta...</td>\n",
       "      <td>auditors report</td>\n",
       "    </tr>\n",
       "    <tr>\n",
       "      <th>4</th>\n",
       "      <td>BASF</td>\n",
       "      <td>2016</td>\n",
       "      <td>4</td>\n",
       "      <td>68</td>\n",
       "      <td>assurance. Knowledge of the business activitie...</td>\n",
       "      <td>auditors report</td>\n",
       "    </tr>\n",
       "  </tbody>\n",
       "</table>\n",
       "</div>"
      ],
      "text/plain": [
       "  company  year  page  paragraph_nr  \\\n",
       "0    BASF  2016     4            64   \n",
       "1    BASF  2016     4            65   \n",
       "2    BASF  2016     4            66   \n",
       "3    BASF  2016     4            67   \n",
       "4    BASF  2016     4            68   \n",
       "\n",
       "                                           paragraph          section  \n",
       "0  154 Consolidated Financial  Statements  BASF R...  auditors report  \n",
       "1                                   Auditor’s report  auditors report  \n",
       "2                                   Auditor’s report  auditors report  \n",
       "3  We have audited the consolidated financial sta...  auditors report  \n",
       "4  assurance. Knowledge of the business activitie...  auditors report  "
      ]
     },
     "execution_count": 2,
     "metadata": {},
     "output_type": "execute_result"
    }
   ],
   "source": [
    "conn = sqlite3.connect('paragraphs.db')\n",
    "\n",
    "data_set = pd.read_sql(\"Select p.*,pc.section from paragraph as p join page_classes pc \"\n",
    "                 \"on p.page = pc.page and \"\n",
    "                 \"p.company = pc.company and \"\n",
    "                 \"p.year = pc.year\",conn)\n",
    "data_set.head()"
   ]
  },
  {
   "cell_type": "code",
   "execution_count": 90,
   "metadata": {},
   "outputs": [],
   "source": [
    "texts = data_set.groupby(['year'])['paragraph'].apply(lambda x: ' '.join(x)) #'company'"
   ]
  },
  {
   "cell_type": "code",
   "execution_count": 91,
   "metadata": {},
   "outputs": [
    {
     "data": {
      "text/plain": [
       "year\n",
       "2015    Bechtle AG Annual Report 2015 142  c O N S O l...\n",
       "2016    154 Consolidated Financial  Statements  BASF R...\n",
       "Name: paragraph, dtype: object"
      ]
     },
     "execution_count": 91,
     "metadata": {},
     "output_type": "execute_result"
    }
   ],
   "source": [
    "texts.head()"
   ]
  },
  {
   "cell_type": "code",
   "execution_count": 98,
   "metadata": {},
   "outputs": [
    {
     "data": {
      "image/png": "[encoded data removed]",
      "text/plain": [
       "<matplotlib.figure.Figure at 0x7f9405fad8d0>"
      ]
     },
     "metadata": {},
     "output_type": "display_data"
    }
   ],
   "source": [
    "tokens = nltk.word_tokenize(texts[1])\n",
    "words = [w.lower() for w in tokens if w.isalpha() and w.lower() not in stopwords.words('english') and len(w)>1]\n",
    "\n",
    "freq = nltk.FreqDist(words)\n",
    "freq_df = pd.DataFrame(data = list(freq.values()),index=list(freq.keys()),columns=[\"occurences\"]).sort_values(by='occurences',ascending=False)\n",
    "\n",
    "\n"
   ]
  },
  {
   "cell_type": "code",
   "execution_count": null,
   "metadata": {},
   "outputs": [],
   "source": []
  }
 ],
 "metadata": {
  "kernelspec": {
   "display_name": "Python 3",
   "language": "python",
   "name": "python3"
  },
  "language_info": {
   "codemirror_mode": {
    "name": "ipython",
    "version": 3
   },
   "file_extension": ".py",
   "mimetype": "text/x-python",
   "name": "python",
   "nbconvert_exporter": "python",
   "pygments_lexer": "ipython3",
   "version": "3.6.3"
  }
 },
 "nbformat": 4,
 "nbformat_minor": 2
}
